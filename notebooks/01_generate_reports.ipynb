{
 "cells": [
  {
   "cell_type": "code",
   "execution_count": null,
   "metadata": {},
   "outputs": [],
   "source": [
    "%cd ../\n",
    "%pip install -q -r requirements.txt\n",
    "%pip install -q -e ."
   ]
  },
  {
   "cell_type": "code",
   "execution_count": null,
   "metadata": {},
   "outputs": [],
   "source": [
    "from clash_utils.strict_pin_audit import main as audit\n",
    "from pathlib import Path\n",
    "\n",
    "# Inputs\n",
    "n_top_conflicts = 15\n",
    "inventory_path = Path(\"data/nodes_inventory.json\")\n",
    "\n",
    "# Outputs\n",
    "outputs_dir = Path(\"outputs\")\n",
    "out_csv = outputs_dir / \"strict_pins.csv\"\n",
    "out_nodes_csv = outputs_dir / \"strict_nodes.csv\"\n",
    "out_txt = outputs_dir / \"summary.txt\"\n",
    "\n",
    "audit(inventory_path, n_top_conflicts, out_csv, out_nodes_csv, out_txt)"
   ]
  },
  {
   "cell_type": "code",
   "execution_count": null,
   "metadata": {},
   "outputs": [],
   "source": [
    "from clash_utils.major_version_clash import main as major_clash\n",
    "from pathlib import Path\n",
    "outputs_dir = Path(\"outputs\")\n",
    "\n",
    "# Inputs\n",
    "inventory_path = Path(\"data/nodes_inventory.json\")\n",
    "input_csv_path = outputs_dir / \"strict_nodes.csv\"\n",
    "\n",
    "# Outputs\n",
    "out_pkg_csv = outputs_dir / \"major_version_clashes.csv\"\n",
    "out_node_csv = outputs_dir / \"strict_packs_with_major_clash.csv\"\n",
    "out_matrix_csv = outputs_dir / \"major_clash_pairs.csv\"\n",
    "\n",
    "major_clash(\n",
    "    strict_csv=input_csv_path,\n",
    "    inventory_json=inventory_path,\n",
    "    output_pkg=out_pkg_csv,\n",
    "    output_node=out_node_csv,\n",
    "    output_matrix=out_matrix_csv\n",
    ")"
   ]
  },
  {
   "cell_type": "code",
   "execution_count": null,
   "metadata": {},
   "outputs": [],
   "source": [
    "from clash_utils.top_impactful_clashes import main as top_impactful_clashes\n",
    "from pathlib import Path\n",
    "outputs_dir = Path(\"outputs\")\n",
    "\n",
    "# Inputs\n",
    "downloads_csv = outputs_dir / \"strict_packs_with_major_clash.csv\"\n",
    "clash_pairs_csv = outputs_dir / \"major_clash_pairs.csv\"\n",
    "top_n = 20\n",
    "\n",
    "# Outputs\n",
    "output_csv = outputs_dir / \"top_impactful_clashes.csv\"\n",
    "output_html = outputs_dir / \"top_impactful_clashes.html\"\n",
    "\n",
    "top_impactful_clashes(\n",
    "    downloads_csv=downloads_csv,\n",
    "    clash_pairs_csv=clash_pairs_csv,\n",
    "    top_n=top_n,\n",
    "    output_csv=output_csv,\n",
    "    output_html=output_html\n",
    ")"
   ]
  },
  {
   "cell_type": "code",
   "execution_count": null,
   "metadata": {},
   "outputs": [],
   "source": [
    "from IPython.display import IFrame\n",
    "from pathlib import Path\n",
    "IFrame(Path(\"outputs/top_impactful_clashes.html\").read_text(), width=\"100%\", height=600)"
   ]
  },
  {
   "cell_type": "code",
   "execution_count": null,
   "metadata": {},
   "outputs": [],
   "source": [
    "from clash_utils.clash_probability import main as clash_probability\n",
    "from pathlib import Path\n",
    "outputs_dir = Path(\"outputs\")\n",
    "\n",
    "# Inputs\n",
    "inventory_json = Path(\"data/nodes_inventory.json\")\n",
    "clash_pairs_csv = Path(\"outputs/major_clash_pairs.csv\")\n",
    "n_packs = 50\n",
    "top_k = 15\n",
    "precision = 5\n",
    "\n",
    "# Outputs\n",
    "output_csv = outputs_dir / \"clash_probability_by_pkg.csv\"\n",
    "\n",
    "clash_probability(\n",
    "    inventory_json=inventory_json,\n",
    "    clash_pairs_csv=clash_pairs_csv,\n",
    "    output_csv=output_csv,\n",
    "    n_packs=n_packs,\n",
    "    top_k=top_k,\n",
    "    precision=precision\n",
    ")\n",
    "\n"
   ]
  }
 ],
 "metadata": {
  "kernelspec": {
   "display_name": ".venv",
   "language": "python",
   "name": "python3"
  },
  "language_info": {
   "codemirror_mode": {
    "name": "ipython",
    "version": 3
   },
   "file_extension": ".py",
   "mimetype": "text/x-python",
   "name": "python",
   "nbconvert_exporter": "python",
   "pygments_lexer": "ipython3",
   "version": "3.12.8"
  }
 },
 "nbformat": 4,
 "nbformat_minor": 2
}
