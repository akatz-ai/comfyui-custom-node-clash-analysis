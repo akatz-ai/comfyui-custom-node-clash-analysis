{
 "cells": [
  {
   "cell_type": "markdown",
   "metadata": {},
   "source": [
    "### Install Requirements\n",
    "\n",
    "This section will install the requirements needed to run the scripts in the following cells.\n",
    "\n",
    "#### Create a .env file\n",
    "\n",
    "To ensure the github api doesn't fail when fetching requirement.txt info for each custom node, you should create a .env file in the top level directory containing the line:\n",
    "\n",
    "GITHUB_TOKEN=github_pat_..."
   ]
  },
  {
   "cell_type": "code",
   "execution_count": null,
   "metadata": {},
   "outputs": [],
   "source": [
    "%cd ../\n",
    "%pip install -q -r requirements.txt\n",
    "%pip install -q -e ."
   ]
  },
  {
   "cell_type": "markdown",
   "metadata": {},
   "source": [
    "### Generates a nodes_snapshot.json file\n",
    "\n",
    "This code cell will query the api.comfy.org registy backend using the /list endpoint to gather a list of all of the custom nodes currently registered in the DB. You can specify a node_limit if you want to test on a subset of nodes."
   ]
  },
  {
   "cell_type": "code",
   "execution_count": null,
   "metadata": {},
   "outputs": [],
   "source": [
    "from clash_utils.comfy_node_utils import snapshot_registry\n",
    "from pathlib import Path\n",
    "snap_path = snapshot_registry(Path.cwd() / 'data', node_limit=None)"
   ]
  },
  {
   "cell_type": "markdown",
   "metadata": {},
   "source": [
    "### Generates a nodes_inventory.json\n",
    "\n",
    "This code cell will take in the nodes_snapshot.json file generated in the previous step, and use it as input to generate a processed version of the custom node data into a nodes_inventory.json file. This process may take some time, as it also attempts to find a requirements.txt file for each custom node in the snapshot, and add it to the inventory.\n",
    "\n",
    "*** You should have a .env with a GITHUB_TOKEN defined in the repo before running this step! ***"
   ]
  },
  {
   "cell_type": "code",
   "execution_count": null,
   "metadata": {},
   "outputs": [],
   "source": [
    "from clash_utils.comfy_node_utils import build_inventory\n",
    "inv_path  = build_inventory(snap_path, out_path=Path.cwd() / 'data' / 'nodes_inventory.json', node_limit=None)"
   ]
  }
 ],
 "metadata": {
  "kernelspec": {
   "display_name": ".venv",
   "language": "python",
   "name": "python3"
  },
  "language_info": {
   "codemirror_mode": {
    "name": "ipython",
    "version": 3
   },
   "file_extension": ".py",
   "mimetype": "text/x-python",
   "name": "python",
   "nbconvert_exporter": "python",
   "pygments_lexer": "ipython3",
   "version": "3.12.8"
  }
 },
 "nbformat": 4,
 "nbformat_minor": 2
}
